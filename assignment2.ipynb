{
 "cells": [
  {
   "cell_type": "code",
   "execution_count": 4,
   "id": "1fbb2311-28d9-4b69-8be8-a41a3caa25a4",
   "metadata": {},
   "outputs": [
    {
     "name": "stdin",
     "output_type": "stream",
     "text": [
      "enter your percentage 45\n"
     ]
    },
    {
     "name": "stdout",
     "output_type": "stream",
     "text": [
      "your grade is D\n"
     ]
    }
   ],
   "source": [
    "#ans 1.\n",
    "num=float(input(\"enter your percentage\"))\n",
    "if num>90:\n",
    "    print(\"your grade is A\")\n",
    "elif num>80 and num<=90:\n",
    "    print(\"your grade is B\")\n",
    "elif num>60 and num<=80:\n",
    "    print(\"your grade is C\")\n",
    "else:\n",
    "    print(\"your grade is D\")"
   ]
  },
  {
   "cell_type": "code",
   "execution_count": 5,
   "id": "a7783968-4f5c-4349-8f46-d7b76cfbfd84",
   "metadata": {},
   "outputs": [
    {
     "name": "stdin",
     "output_type": "stream",
     "text": [
      "enter price of your vehicle 520000\n"
     ]
    },
    {
     "name": "stdout",
     "output_type": "stream",
     "text": [
      "your tax is 78000.0\n"
     ]
    }
   ],
   "source": [
    "#ans 2.\n",
    "prc=int(input(\"enter price of your vehicle\"))\n",
    "if prc>100000:\n",
    "    print(\"your tax is\", (prc*15)/100)\n",
    "elif prc>50000 and prc<=100000:\n",
    "    print(\"your tax is \",(prc*10)/100)\n",
    "else:\n",
    "    print(\"your tax is \",(prc*5)/100)"
   ]
  },
  {
   "cell_type": "code",
   "execution_count": null,
   "id": "d4fe194f-580b-4359-b038-9386ac5dff38",
   "metadata": {},
   "outputs": [],
   "source": [
    "#ans 3.\n",
    "city=input(\"enter city name\")\n",
    "if city==\"delhi\" or city==\"Delhi\":\n",
    "    print(\"Red Fort\")\n",
    "elif city==\"agra\" or city==\"Agra\":\n",
    "    print(\"Taj Mahal\")\n",
    "elif city==\"jaipur\" or city==\"Jaipur\":\n",
    "    print(\"Jal Mahal\")\n",
    "else:\n",
    "    print(\"you have entered wrong input\")"
   ]
  },
  {
   "cell_type": "code",
   "execution_count": null,
   "id": "fb626eda-220f-4170-aef7-609939fedab2",
   "metadata": {},
   "outputs": [],
   "source": [
    "#ans 4.\n",
    "num=int(input(\"enter the number\"))\n",
    "counter=0\n",
    "while num<10:\n",
    "    num=num%3\n",
    "print(num)\n",
    "          "
   ]
  },
  {
   "cell_type": "code",
   "execution_count": 1,
   "id": "47138f53-b147-4de1-9f55-367f9e1f6640",
   "metadata": {},
   "outputs": [
    {
     "name": "stdout",
     "output_type": "stream",
     "text": [
      "110\n"
     ]
    }
   ],
   "source": [
    "'''ans 5.\n",
    "\"While\" Loop is used to repeat a specific block of code an \n",
    "unknown number of times, until a condition is met.'''\n",
    "num = 2\n",
    "count=0\n",
    "sum = 0\n",
    "\n",
    "while num <=20:\n",
    "\n",
    "    sum += num\n",
    "\n",
    "    num += 2\n",
    "\n",
    "    count+=1\n",
    "\n",
    "print(sum)"
   ]
  },
  {
   "cell_type": "code",
   "execution_count": 2,
   "id": "0bafeea4-36b9-40cc-869d-815771663dd2",
   "metadata": {},
   "outputs": [
    {
     "name": "stdout",
     "output_type": "stream",
     "text": [
      "1 \n",
      "1 2 \n",
      "1 2 3 \n",
      "1 2 3 4 \n",
      "1 2 3 4 5 \n"
     ]
    }
   ],
   "source": [
    "#ans 6.a\n",
    "i=1\n",
    "while i<=5:\n",
    "    j=1\n",
    "    while j<=i:\n",
    "        print(j,end=\" \")\n",
    "        j=j+1\n",
    "    print(\"\")\n",
    "    i=i+1"
   ]
  },
  {
   "cell_type": "code",
   "execution_count": 3,
   "id": "4f6be13b-e3c9-45a8-af7b-d306ea938f6e",
   "metadata": {},
   "outputs": [
    {
     "name": "stdin",
     "output_type": "stream",
     "text": [
      "Enter number of rows :  5\n"
     ]
    },
    {
     "name": "stdout",
     "output_type": "stream",
     "text": [
      "* \n",
      "* * \n",
      "* * * \n",
      "* * * * \n",
      "* * * * * \n"
     ]
    }
   ],
   "source": [
    "#ans 6.b\n",
    "n = int(input('Enter number of rows : '))\n",
    " \n",
    "i = 1\n",
    "while i <= n :\n",
    "    j = 1\n",
    "    while j <= i:\n",
    "        print(\"*\", end = \" \")\n",
    "        j += 1\n",
    "    print()\n",
    "    i += 1"
   ]
  },
  {
   "cell_type": "code",
   "execution_count": 4,
   "id": "3ddd8cc4-6180-47a3-a5b8-f286392241a6",
   "metadata": {},
   "outputs": [
    {
     "name": "stdin",
     "output_type": "stream",
     "text": [
      "Enter number of rows :  5\n"
     ]
    },
    {
     "name": "stdout",
     "output_type": "stream",
     "text": [
      "* * * * * \n",
      "* * * * \n",
      "* * * \n",
      "* * \n",
      "* \n"
     ]
    }
   ],
   "source": [
    "#ans 6.c\n",
    "n = int(input('Enter number of rows : '))\n",
    " \n",
    "i = 1\n",
    "while i <= n :\n",
    "    j = n\n",
    "    while j >= i:\n",
    "        print(\"*\", end = \" \")\n",
    "        j -= 1\n",
    "    print()\n",
    "    i += 1"
   ]
  },
  {
   "cell_type": "code",
   "execution_count": 10,
   "id": "3d4889c0-d1b0-452b-980a-20921aecaee2",
   "metadata": {},
   "outputs": [
    {
     "ename": "TypeError",
     "evalue": "unsupported operand type(s) for -: 'builtin_function_or_method' and 'int'",
     "output_type": "error",
     "traceback": [
      "\u001b[0;31m---------------------------------------------------------------------------\u001b[0m",
      "\u001b[0;31mTypeError\u001b[0m                                 Traceback (most recent call last)",
      "Cell \u001b[0;32mIn[10], line 6\u001b[0m\n\u001b[1;32m      4\u001b[0m \u001b[38;5;28mlen\u001b[39m(l)\n\u001b[1;32m      5\u001b[0m \u001b[38;5;28;01mwhile\u001b[39;00m \u001b[38;5;28mlen\u001b[39m(l)\u001b[38;5;241m>\u001b[39m\u001b[38;5;241m0\u001b[39m:\n\u001b[0;32m----> 6\u001b[0m     l1\u001b[38;5;241m.\u001b[39mappend(\u001b[38;5;28;43mlen\u001b[39;49m\u001b[38;5;241;43m-\u001b[39;49m\u001b[38;5;241;43m1\u001b[39;49m)\n\u001b[1;32m      7\u001b[0m \u001b[38;5;28mlen\u001b[39m\u001b[38;5;241m=\u001b[39m\u001b[38;5;28mlen\u001b[39m\u001b[38;5;241m-\u001b[39m\u001b[38;5;241m1\u001b[39m\n\u001b[1;32m      8\u001b[0m l1  \n",
      "\u001b[0;31mTypeError\u001b[0m: unsupported operand type(s) for -: 'builtin_function_or_method' and 'int'"
     ]
    }
   ],
   "source": [
    "#ans 7.\n",
    "num=10\n",
    "while num>0:\n",
    "    print(num)\n",
    "num-1"
   ]
  },
  {
   "cell_type": "code",
   "execution_count": null,
   "id": "04df75c3-7732-4370-81ab-2ac3c60cc888",
   "metadata": {},
   "outputs": [],
   "source": []
  }
 ],
 "metadata": {
  "kernelspec": {
   "display_name": "Python 3 (ipykernel)",
   "language": "python",
   "name": "python3"
  },
  "language_info": {
   "codemirror_mode": {
    "name": "ipython",
    "version": 3
   },
   "file_extension": ".py",
   "mimetype": "text/x-python",
   "name": "python",
   "nbconvert_exporter": "python",
   "pygments_lexer": "ipython3",
   "version": "3.10.8"
  }
 },
 "nbformat": 4,
 "nbformat_minor": 5
}
